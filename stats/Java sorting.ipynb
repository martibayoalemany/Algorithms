{
 "cells": [
  {
   "cell_type": "markdown",
   "metadata": {},
   "source": [
    "### Initial code to strip the fields with Regex\n",
    "```\n",
    "import re\n",
    "import pandas as pd\n",
    "\n",
    "data = pd.read_csv(\"java_sorting_24_7_17.txt\", sep=\"|\")\n",
    "def filter_data(data):\n",
    "    data.columns= [re.sub(r'\\s+(\\S+)\\s+', r'\\1', x) for x in data.columns]\n",
    "    for i in range(1, len(data.columns)):\n",
    "        try:\n",
    "          data.iloc[:,i] = data.iloc[:,i].apply(lambda x: re.sub(r'\\s+(\\S+)\\s+', r'\\1', x))\n",
    "        except Exception as e:\n",
    "            print(e)\n",
    "    data.loc[:, 'shuffle'] = data.loc[:, 'shuffle'].apply(lambda x: re.sub(r'\\/(\\d+)', r'\\1',x))\n",
    "    return data\n",
    "data = filter_data(data)\n",
    "```"
   ]
  },
  {
   "cell_type": "code",
   "execution_count": 1,
   "metadata": {},
   "outputs": [],
   "source": [
    "# Using strip to filter the values in the txt\n",
    "import pandas as pd\n",
    "import numpy as np\n",
    "def read_stats(data_file):\n",
    "    data = pd.read_csv(data_file, sep=\"|\")\n",
    "    data.columns = [ x.strip() for x in data.columns]\n",
    "\n",
    "    # Filter integer indexes\n",
    "    str_idxs = [idx for idx,dtype in zip(range(0,len(data.dtypes)), data.dtypes) if dtype != 'int64' ]\n",
    "\n",
    "    # Strip fields\n",
    "    for i in str_idxs:    \n",
    "        key = data.columns[i]\n",
    "        if data[key].dtype == np.dtype('str'):\n",
    "            data.loc[:,key] = [ x.strip() for x in data.loc[:, key]]\n",
    "    return data\n",
    "\n",
    "data = read_stats(\"java_sorting_127.0.1.1_Di_1._Aug_07:39:03_UTC_2017.txt\")\n",
    "data.to_csv(\"java_sorting_127.0.1.1_Di_1._Aug_07:39:03_UTC_2017.csv\")"
   ]
  },
  {
   "cell_type": "code",
   "execution_count": 2,
   "metadata": {},
   "outputs": [
    {
     "data": {
      "text/plain": [
       "[(0, 'name'),\n",
       " (1, 'shuffle'),\n",
       " (2, 'elements'),\n",
       " (3, 'duration_ms'),\n",
       " (4, 'p_duration_s'),\n",
       " (5, 'p_duration_ns'),\n",
       " (6, 'memory')]"
      ]
     },
     "execution_count": 2,
     "metadata": {},
     "output_type": "execute_result"
    }
   ],
   "source": [
    " [x for x in zip(range(0, len(data.columns)),data.columns)]   "
   ]
  },
  {
   "cell_type": "code",
   "execution_count": 3,
   "metadata": {},
   "outputs": [
    {
     "data": {
      "text/html": [
       "<iframe id=\"igraph\" scrolling=\"no\" style=\"border:none;\" seamless=\"seamless\" src=\"https://plot.ly/~martibayoalemany/264.embed\" height=\"525px\" width=\"100%\"></iframe>"
      ],
      "text/plain": [
       "<plotly.tools.PlotlyDisplay object>"
      ]
     },
     "execution_count": 3,
     "metadata": {},
     "output_type": "execute_result"
    }
   ],
   "source": [
    "import plotly\n",
    "import plotly.plotly as py\n",
    "import plotly.figure_factory as ff\n",
    "from plotly.graph_objs import *\n",
    "#plotly.offline.init_notebook_mode() \n",
    "def filter_by(data, name, value):\n",
    "    data_length = len(data)\n",
    "    return [idx for idx in range(0, data_length) if data.loc[idx,name] == value]\n",
    "\n",
    "# using ~/.plotly/.credentials\n",
    "# plotly.tools.set_credentials_file(username=\"\", api_key=\"\")\n",
    "\n",
    "algorithms = set(data.loc[:, 'name'])\n",
    "alg = algorithms.pop()\n",
    "idxs = filter_by(data, 'name', alg)\n",
    "X = data.loc[idxs, 'elements']\n",
    "Y = data.loc[idxs, 'duration_ms']\n",
    "plot_data = [Bar(x = X, y = Y, name=alg)]\n",
    "layout = Layout(title= alg + ' performance (java) ',\n",
    "                xaxis=dict(title='Elements'),\n",
    "                yaxis=dict(title='Time'))\n",
    "fig = Figure(data=plot_data, layout=layout)\n",
    "py.iplot(fig)\n"
   ]
  },
  {
   "cell_type": "code",
   "execution_count": 4,
   "metadata": {},
   "outputs": [
    {
     "data": {
      "text/html": [
       "<iframe id=\"igraph\" scrolling=\"no\" style=\"border:none;\" seamless=\"seamless\" src=\"https://plot.ly/~martibayoalemany/266.embed\" height=\"525px\" width=\"100%\"></iframe>"
      ],
      "text/plain": [
       "<plotly.tools.PlotlyDisplay object>"
      ]
     },
     "execution_count": 4,
     "metadata": {},
     "output_type": "execute_result"
    }
   ],
   "source": [
    "alg = algorithms.pop()\n",
    "idxs = filter_by(data, 'name', alg)\n",
    "X = data.loc[idxs, 'elements']\n",
    "Y = data.loc[idxs, 'duration_ms']\n",
    "plot_data = [Bar(x = X, y = Y, name=alg)]\n",
    "layout = Layout(title= alg + ' performance (java) ',\n",
    "                xaxis=dict(title='Elements'),\n",
    "                yaxis=dict(title='Time'))\n",
    "fig = Figure(data=plot_data, layout=layout)\n",
    "py.iplot(fig)\n",
    "\n"
   ]
  },
  {
   "cell_type": "code",
   "execution_count": 5,
   "metadata": {},
   "outputs": [
    {
     "data": {
      "text/html": [
       "<iframe id=\"igraph\" scrolling=\"no\" style=\"border:none;\" seamless=\"seamless\" src=\"https://plot.ly/~martibayoalemany/268.embed\" height=\"525px\" width=\"100%\"></iframe>"
      ],
      "text/plain": [
       "<plotly.tools.PlotlyDisplay object>"
      ]
     },
     "execution_count": 5,
     "metadata": {},
     "output_type": "execute_result"
    }
   ],
   "source": [
    "alg = algorithms.pop()\n",
    "idxs = filter_by(data, 'name', alg)\n",
    "X = data.loc[idxs, 'elements']\n",
    "Y = data.loc[idxs, 'duration_ms']\n",
    "plot_data = [Bar(x = X, y = Y, name=alg)]\n",
    "layout = Layout(title= alg + ' performance (java) ',\n",
    "                xaxis=dict(title='Elements'),\n",
    "                yaxis=dict(title='Time'))\n",
    "fig = Figure(data=plot_data, layout=layout)\n",
    "py.iplot(fig)"
   ]
  },
  {
   "cell_type": "code",
   "execution_count": 6,
   "metadata": {},
   "outputs": [
    {
     "data": {
      "text/html": [
       "<iframe id=\"igraph\" scrolling=\"no\" style=\"border:none;\" seamless=\"seamless\" src=\"https://plot.ly/~martibayoalemany/270.embed\" height=\"525px\" width=\"100%\"></iframe>"
      ],
      "text/plain": [
       "<plotly.tools.PlotlyDisplay object>"
      ]
     },
     "execution_count": 6,
     "metadata": {},
     "output_type": "execute_result"
    }
   ],
   "source": [
    "alg = algorithms.pop()\n",
    "idxs = filter_by(data, 'name', alg)\n",
    "X = data.loc[idxs, 'elements']\n",
    "Y = data.loc[idxs, 'duration_ms']\n",
    "plot_data = [Bar(x = X, y = Y, name=alg)]\n",
    "layout = Layout(title= alg + ' performance (java) ',\n",
    "                xaxis=dict(title='Elements'),\n",
    "                yaxis=dict(title='Time'))\n",
    "fig = Figure(data=plot_data, layout=layout)\n",
    "py.iplot(fig)"
   ]
  },
  {
   "cell_type": "code",
   "execution_count": 7,
   "metadata": {},
   "outputs": [
    {
     "data": {
      "text/html": [
       "<iframe id=\"igraph\" scrolling=\"no\" style=\"border:none;\" seamless=\"seamless\" src=\"https://plot.ly/~martibayoalemany/272.embed\" height=\"525px\" width=\"100%\"></iframe>"
      ],
      "text/plain": [
       "<plotly.tools.PlotlyDisplay object>"
      ]
     },
     "execution_count": 7,
     "metadata": {},
     "output_type": "execute_result"
    }
   ],
   "source": [
    "alg = algorithms.pop()\n",
    "idxs = filter_by(data, 'name', alg)\n",
    "X = data.loc[idxs, 'elements']\n",
    "Y = data.loc[idxs, 'duration_ms']\n",
    "plot_data = [Bar(x = X, y = Y, name=alg)]\n",
    "layout = Layout(title= alg + ' performance (java) ',\n",
    "                xaxis=dict(title='Elements'),\n",
    "                yaxis=dict(title='Time'))\n",
    "fig = Figure(data=plot_data, layout=layout)\n",
    "py.iplot(fig)"
   ]
  },
  {
   "cell_type": "markdown",
   "metadata": {
    "collapsed": true
   },
   "source": [
    "## The same stats as before but with 9 Million data\n",
    "\n",
    "The **merge sort** algorithm we developed is a bit less than O(N). We couldn't find out in that run the worst case performance of O(n log(n)) [see](https://en.wikipedia.org/wiki/Merge_sort). \n",
    "\n",
    "The worst case of our **merge sort** (single threaded) is better than the worst case of the java platform Arrays.sort, however the stats are not independend the runs were not isolated.\n",
    "We loop through all sorting algorithms, the garbage collection of the previous algorithm\n",
    "might affect the performance of the next one. The garbage collection of **merge sort** might change the performance of **Arrays.sort**\n"
   ]
  },
  {
   "cell_type": "code",
   "execution_count": 8,
   "metadata": {},
   "outputs": [
    {
     "data": {
      "text/html": [
       "<iframe id=\"igraph\" scrolling=\"no\" style=\"border:none;\" seamless=\"seamless\" src=\"https://plot.ly/~martibayoalemany/274.embed\" height=\"525px\" width=\"100%\"></iframe>"
      ],
      "text/plain": [
       "<plotly.tools.PlotlyDisplay object>"
      ]
     },
     "execution_count": 8,
     "metadata": {},
     "output_type": "execute_result"
    }
   ],
   "source": [
    "data2 = read_stats(\"java_sorting_127.0.1.1_Fr_4._Aug_23:59:33_UTC_2017.txt\")\n",
    "algorithms = set(data2.loc[:, 'name'])\n",
    "alg = algorithms.pop()\n",
    "idxs = filter_by(data2, 'name', alg)\n",
    "X = data2.loc[idxs, 'elements']\n",
    "Y = data2.loc[idxs, 'duration_ms']\n",
    "plot_data = [Bar(x = X, y = Y, name=alg)]\n",
    "layout = Layout(title= alg + ' performance (java) ',\n",
    "                xaxis=dict(title='Elements'),\n",
    "                yaxis=dict(title='Time'))\n",
    "fig = Figure(data=plot_data, layout=layout)\n",
    "py.iplot(fig)"
   ]
  },
  {
   "cell_type": "code",
   "execution_count": 9,
   "metadata": {},
   "outputs": [
    {
     "data": {
      "text/html": [
       "<iframe id=\"igraph\" scrolling=\"no\" style=\"border:none;\" seamless=\"seamless\" src=\"https://plot.ly/~martibayoalemany/276.embed\" height=\"525px\" width=\"100%\"></iframe>"
      ],
      "text/plain": [
       "<plotly.tools.PlotlyDisplay object>"
      ]
     },
     "execution_count": 9,
     "metadata": {},
     "output_type": "execute_result"
    }
   ],
   "source": [
    "alg = algorithms.pop()\n",
    "idxs = filter_by(data2, 'name', alg)\n",
    "X = data2.loc[idxs, 'elements']\n",
    "Y = data2.loc[idxs, 'duration_ms']\n",
    "plot_data = [Bar(x = X, y = Y, name=alg)]\n",
    "layout = Layout(title= alg + ' performance (java) ',\n",
    "                xaxis=dict(title='Elements'),\n",
    "                yaxis=dict(title='Time'))\n",
    "fig = Figure(data=plot_data, layout=layout)\n",
    "py.iplot(fig)"
   ]
  },
  {
   "cell_type": "code",
   "execution_count": 10,
   "metadata": {},
   "outputs": [
    {
     "data": {
      "text/html": [
       "<iframe id=\"igraph\" scrolling=\"no\" style=\"border:none;\" seamless=\"seamless\" src=\"https://plot.ly/~martibayoalemany/278.embed\" height=\"525px\" width=\"100%\"></iframe>"
      ],
      "text/plain": [
       "<plotly.tools.PlotlyDisplay object>"
      ]
     },
     "execution_count": 10,
     "metadata": {},
     "output_type": "execute_result"
    }
   ],
   "source": [
    "alg = algorithms.pop()\n",
    "idxs = filter_by(data2, 'name', alg)\n",
    "X = data2.loc[idxs, 'elements']\n",
    "Y = data2.loc[idxs, 'duration_ms']\n",
    "plot_data = [Bar(x = X, y = Y, name=alg)]\n",
    "layout = Layout(title= alg + ' performance (java) ',\n",
    "                xaxis=dict(title='Elements'),\n",
    "                yaxis=dict(title='Time'))\n",
    "fig = Figure(data=plot_data, layout=layout)\n",
    "py.iplot(fig)"
   ]
  },
  {
   "cell_type": "code",
   "execution_count": 11,
   "metadata": {},
   "outputs": [
    {
     "data": {
      "text/html": [
       "<iframe id=\"igraph\" scrolling=\"no\" style=\"border:none;\" seamless=\"seamless\" src=\"https://plot.ly/~martibayoalemany/280.embed\" height=\"525px\" width=\"100%\"></iframe>"
      ],
      "text/plain": [
       "<plotly.tools.PlotlyDisplay object>"
      ]
     },
     "execution_count": 11,
     "metadata": {},
     "output_type": "execute_result"
    }
   ],
   "source": [
    "alg = algorithms.pop()\n",
    "idxs = filter_by(data2, 'name', alg)\n",
    "X = data2.loc[idxs, 'elements']\n",
    "Y = data2.loc[idxs, 'duration_ms']\n",
    "plot_data = [Bar(x = X, y = Y, name=alg)]\n",
    "layout = Layout(title= alg + ' performance (java) ',\n",
    "                xaxis=dict(title='Elements'),\n",
    "                yaxis=dict(title='Time'))\n",
    "fig = Figure(data=plot_data, layout=layout)\n",
    "py.iplot(fig)"
   ]
  },
  {
   "cell_type": "code",
   "execution_count": 12,
   "metadata": {},
   "outputs": [
    {
     "data": {
      "text/html": [
       "<iframe id=\"igraph\" scrolling=\"no\" style=\"border:none;\" seamless=\"seamless\" src=\"https://plot.ly/~martibayoalemany/282.embed\" height=\"525px\" width=\"100%\"></iframe>"
      ],
      "text/plain": [
       "<plotly.tools.PlotlyDisplay object>"
      ]
     },
     "execution_count": 12,
     "metadata": {},
     "output_type": "execute_result"
    }
   ],
   "source": [
    "alg = algorithms.pop()\n",
    "idxs = filter_by(data2, 'name', alg)\n",
    "X = data2.loc[idxs, 'elements']\n",
    "Y = data2.loc[idxs, 'duration_ms']\n",
    "plot_data = [Bar(x = X, y = Y, name=alg)]\n",
    "layout = Layout(title= alg + ' performance (java) ',\n",
    "                xaxis=dict(title='Elements'),\n",
    "                yaxis=dict(title='Time'))\n",
    "fig = Figure(data=plot_data, layout=layout)\n",
    "py.iplot(fig)"
   ]
  },
  {
   "cell_type": "markdown",
   "metadata": {},
   "source": [
    "### Better visualization"
   ]
  },
  {
   "cell_type": "code",
   "execution_count": 13,
   "metadata": {},
   "outputs": [
    {
     "data": {
      "text/plain": [
       "{'Arrays.parallelSort',\n",
       " 'Arrays.sort',\n",
       " 'Linked Hashmap',\n",
       " 'Stream + parallel + sort',\n",
       " 'merge sort'}"
      ]
     },
     "execution_count": 13,
     "metadata": {},
     "output_type": "execute_result"
    }
   ],
   "source": [
    "data2.loc[:,'name'] =[x.strip() for x in data2.loc[:,'name']]\n",
    "algorithms = set(data2.loc[:, 'name'])\n",
    "\n",
    "algorithms"
   ]
  },
  {
   "cell_type": "code",
   "execution_count": 41,
   "metadata": {},
   "outputs": [
    {
     "data": {
      "text/html": [
       "<iframe id=\"igraph\" scrolling=\"no\" style=\"border:none;\" seamless=\"seamless\" src=\"https://plot.ly/~martibayoalemany/298.embed\" height=\"525px\" width=\"100%\"></iframe>"
      ],
      "text/plain": [
       "<plotly.tools.PlotlyDisplay object>"
      ]
     },
     "execution_count": 41,
     "metadata": {},
     "output_type": "execute_result"
    }
   ],
   "source": [
    "import plotly.graph_objs as go\n",
    "algorithms.remove('Linked Hashmap')\n",
    "def get_bar(data, algorithm_name):    \n",
    "    idxs = filter_by(data, 'name', algorithm_name)\n",
    "    X1 = data2.loc[idxs, 'elements']\n",
    "    Y1 = data2.loc[idxs, 'duration_ms']\n",
    "    return go.Bar(x=X1, y=Y1, name=algorithm_name)\n",
    "\n",
    "plot_data = [get_bar(data2, name) for name in algorithms]\n",
    "layout = go.Layout(title= 'Performance comparison',\n",
    "                xaxis=dict(title='Elements (32 bits / -2,147,483,648 to +2,147,483,647)'),\n",
    "                yaxis=dict(title='Time (ms)'),\n",
    "                  barmode='stack')\n",
    "fig = go.Figure(data=plot_data, layout=layout)\n",
    "py.iplot(fig)"
   ]
  },
  {
   "cell_type": "code",
   "execution_count": null,
   "metadata": {
    "collapsed": true
   },
   "outputs": [],
   "source": []
  }
 ],
 "metadata": {
  "kernelspec": {
   "display_name": "Python 3",
   "language": "python",
   "name": "python3"
  },
  "language_info": {
   "codemirror_mode": {
    "name": "ipython",
    "version": 3
   },
   "file_extension": ".py",
   "mimetype": "text/x-python",
   "name": "python",
   "nbconvert_exporter": "python",
   "pygments_lexer": "ipython3",
   "version": "3.5.3"
  }
 },
 "nbformat": 4,
 "nbformat_minor": 2
}
