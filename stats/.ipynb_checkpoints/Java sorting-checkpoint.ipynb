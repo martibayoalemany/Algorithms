{
 "cells": [
  {
   "cell_type": "markdown",
   "metadata": {},
   "source": [
    "### Initial code to strip the fields with Regex\n",
    "```\n",
    "import re\n",
    "import pandas as pd\n",
    "\n",
    "data = pd.read_csv(\"java_sorting_24_7_17.txt\", sep=\"|\")\n",
    "def filter_data(data):\n",
    "    data.columns= [re.sub(r'\\s+(\\S+)\\s+', r'\\1', x) for x in data.columns]\n",
    "    for i in range(1, len(data.columns)):\n",
    "        try:\n",
    "          data.iloc[:,i] = data.iloc[:,i].apply(lambda x: re.sub(r'\\s+(\\S+)\\s+', r'\\1', x))\n",
    "        except Exception as e:\n",
    "            print(e)\n",
    "    data.loc[:, 'shuffle'] = data.loc[:, 'shuffle'].apply(lambda x: re.sub(r'\\/(\\d+)', r'\\1',x))\n",
    "    return data\n",
    "data = filter_data(data)\n",
    "```"
   ]
  },
  {
   "cell_type": "code",
   "execution_count": 1,
   "metadata": {
    "collapsed": true
   },
   "outputs": [],
   "source": [
    "# Using strip to filter the values in the txt\n",
    "import pandas as pd\n",
    "\n",
    "data_file = \"java_sorting_127.0.1.1_Di_1._Aug_07:39:03_UTC_2017\"\n",
    "data = pd.read_csv(data_file + \".txt\", sep=\"|\")\n",
    "data.columns = [ x.strip() for x in data.columns]\n",
    "\n",
    "# Filter integer indexes\n",
    "str_idxs = [idx for idx,dtype in zip(range(0,len(data.dtypes)), data.dtypes) if dtype != 'int64' ]\n",
    "\n",
    "# Strip fields\n",
    "for i in str_idxs:    \n",
    "    data.loc[:,data.columns[i]] = [ x.strip() for x in data.loc[:, data.columns[i]]]\n"
   ]
  },
  {
   "cell_type": "code",
   "execution_count": 2,
   "metadata": {
    "collapsed": true
   },
   "outputs": [],
   "source": [
    "data.to_csv(data_file + \".csv\")"
   ]
  },
  {
   "cell_type": "code",
   "execution_count": 87,
   "metadata": {},
   "outputs": [
    {
     "data": {
      "text/plain": [
       "[(0, 'name'),\n",
       " (1, 'shuffle'),\n",
       " (2, 'elements'),\n",
       " (3, 'duration_ms'),\n",
       " (4, 'p_duration_s'),\n",
       " (5, 'p_duration_ns'),\n",
       " (6, 'memory')]"
      ]
     },
     "execution_count": 87,
     "metadata": {},
     "output_type": "execute_result"
    }
   ],
   "source": [
    " [x for x in zip(range(0, len(data.columns)),data.columns)]\n",
    "    "
   ]
  },
  {
   "cell_type": "code",
   "execution_count": 57,
   "metadata": {},
   "outputs": [
    {
     "data": {
      "text/html": [
       "<iframe id=\"igraph\" scrolling=\"no\" style=\"border:none;\" seamless=\"seamless\" src=\"https://plot.ly/~martibayoalemany/96.embed\" height=\"525px\" width=\"100%\"></iframe>"
      ],
      "text/plain": [
       "<plotly.tools.PlotlyDisplay object>"
      ]
     },
     "execution_count": 57,
     "metadata": {},
     "output_type": "execute_result"
    }
   ],
   "source": [
    "import plotly\n",
    "import plotly.plotly as py\n",
    "import plotly.figure_factory as ff\n",
    "from plotly.graph_objs import *\n",
    "#plotly.offline.init_notebook_mode() \n",
    "def filter_by(data, name, value):\n",
    "    data_length = len(data)\n",
    "    return [idx for idx in range(0, data_length) if data.loc[idx,name] == value]\n",
    "\n",
    "# using ~/.plotly/.credentials\n",
    "# plotly.tools.set_credentials_file(username=\"\", api_key=\"\")\n",
    "\n",
    "algorithms = set(data.loc[:, 'name'])\n",
    "alg = algorithms.pop()\n",
    "idxs = filter_by(data, 'name', alg)\n",
    "X = data.loc[idxs, 'elements']\n",
    "Y = data.loc[idxs, 'duration_ms']\n",
    "plot_data = [Bar(x = X, y = Y, name=alg)]\n",
    "layout = Layout(title= alg + ' performance (java) ',\n",
    "                xaxis=dict(title='Elements'),\n",
    "                yaxis=dict(title='Time'))\n",
    "fig = Figure(data=plot_data, layout=layout)\n",
    "py.iplot(fig)\n"
   ]
  },
  {
   "cell_type": "code",
   "execution_count": 58,
   "metadata": {},
   "outputs": [
    {
     "data": {
      "text/html": [
       "<iframe id=\"igraph\" scrolling=\"no\" style=\"border:none;\" seamless=\"seamless\" src=\"https://plot.ly/~martibayoalemany/98.embed\" height=\"525px\" width=\"100%\"></iframe>"
      ],
      "text/plain": [
       "<plotly.tools.PlotlyDisplay object>"
      ]
     },
     "execution_count": 58,
     "metadata": {},
     "output_type": "execute_result"
    }
   ],
   "source": [
    "alg = algorithms.pop()\n",
    "idxs = filter_by(data, 'name', alg)\n",
    "X = data.loc[idxs, 'elements']\n",
    "Y = data.loc[idxs, 'duration_ms']\n",
    "plot_data = [Bar(x = X, y = Y, name=alg)]\n",
    "layout = Layout(title= alg + ' performance (java) ',\n",
    "                xaxis=dict(title='Elements'),\n",
    "                yaxis=dict(title='Time'))\n",
    "fig = Figure(data=plot_data, layout=layout)\n",
    "py.iplot(fig)\n",
    "\n"
   ]
  },
  {
   "cell_type": "code",
   "execution_count": 59,
   "metadata": {},
   "outputs": [
    {
     "data": {
      "text/html": [
       "<iframe id=\"igraph\" scrolling=\"no\" style=\"border:none;\" seamless=\"seamless\" src=\"https://plot.ly/~martibayoalemany/100.embed\" height=\"525px\" width=\"100%\"></iframe>"
      ],
      "text/plain": [
       "<plotly.tools.PlotlyDisplay object>"
      ]
     },
     "execution_count": 59,
     "metadata": {},
     "output_type": "execute_result"
    }
   ],
   "source": [
    "alg = algorithms.pop()\n",
    "idxs = filter_by(data, 'name', alg)\n",
    "X = data.loc[idxs, 'elements']\n",
    "Y = data.loc[idxs, 'duration_ms']\n",
    "plot_data = [Bar(x = X, y = Y, name=alg)]\n",
    "layout = Layout(title= alg + ' performance (java) ',\n",
    "                xaxis=dict(title='Elements'),\n",
    "                yaxis=dict(title='Time'))\n",
    "fig = Figure(data=plot_data, layout=layout)\n",
    "py.iplot(fig)"
   ]
  },
  {
   "cell_type": "code",
   "execution_count": 60,
   "metadata": {},
   "outputs": [
    {
     "data": {
      "text/html": [
       "<iframe id=\"igraph\" scrolling=\"no\" style=\"border:none;\" seamless=\"seamless\" src=\"https://plot.ly/~martibayoalemany/102.embed\" height=\"525px\" width=\"100%\"></iframe>"
      ],
      "text/plain": [
       "<plotly.tools.PlotlyDisplay object>"
      ]
     },
     "execution_count": 60,
     "metadata": {},
     "output_type": "execute_result"
    }
   ],
   "source": [
    "alg = algorithms.pop()\n",
    "idxs = filter_by(data, 'name', alg)\n",
    "X = data.loc[idxs, 'elements']\n",
    "Y = data.loc[idxs, 'duration_ms']\n",
    "plot_data = [Bar(x = X, y = Y, name=alg)]\n",
    "layout = Layout(title= alg + ' performance (java) ',\n",
    "                xaxis=dict(title='Elements'),\n",
    "                yaxis=dict(title='Time'))\n",
    "fig = Figure(data=plot_data, layout=layout)\n",
    "py.iplot(fig)"
   ]
  },
  {
   "cell_type": "code",
   "execution_count": 61,
   "metadata": {},
   "outputs": [
    {
     "data": {
      "text/html": [
       "<iframe id=\"igraph\" scrolling=\"no\" style=\"border:none;\" seamless=\"seamless\" src=\"https://plot.ly/~martibayoalemany/104.embed\" height=\"525px\" width=\"100%\"></iframe>"
      ],
      "text/plain": [
       "<plotly.tools.PlotlyDisplay object>"
      ]
     },
     "execution_count": 61,
     "metadata": {},
     "output_type": "execute_result"
    }
   ],
   "source": [
    "alg = algorithms.pop()\n",
    "idxs = filter_by(data, 'name', alg)\n",
    "X = data.loc[idxs, 'elements']\n",
    "Y = data.loc[idxs, 'duration_ms']\n",
    "plot_data = [Bar(x = X, y = Y, name=alg)]\n",
    "layout = Layout(title= alg + ' performance (java) ',\n",
    "                xaxis=dict(title='Elements'),\n",
    "                yaxis=dict(title='Time'))\n",
    "fig = Figure(data=plot_data, layout=layout)\n",
    "py.iplot(fig)"
   ]
  },
  {
   "cell_type": "code",
   "execution_count": null,
   "metadata": {
    "collapsed": true
   },
   "outputs": [],
   "source": []
  }
 ],
 "metadata": {
  "kernelspec": {
   "display_name": "Python 3",
   "language": "python",
   "name": "python3"
  },
  "language_info": {
   "codemirror_mode": {
    "name": "ipython",
    "version": 3
   },
   "file_extension": ".py",
   "mimetype": "text/x-python",
   "name": "python",
   "nbconvert_exporter": "python",
   "pygments_lexer": "ipython3",
   "version": "3.5.3"
  }
 },
 "nbformat": 4,
 "nbformat_minor": 2
}
